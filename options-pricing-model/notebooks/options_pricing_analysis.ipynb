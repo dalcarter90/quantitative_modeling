{
 "cells": [
  {
   "cell_type": "markdown",
   "metadata": {},
   "source": [
    "# Options Pricing Analysis\n",
    "\n",
    "This notebook is used for exploratory data analysis and visualization of the options pricing results generated from the Monte Carlo simulation data."
   ]
  },
  {
   "cell_type": "code",
   "execution_count": null,
   "metadata": {
    "collapsed": false
   },
   "outputs": [],
   "source": [
    "# Import necessary libraries\n",
    "import pandas as pd\n",
    "import matplotlib.pyplot as plt\n",
    "import seaborn as sns\n",
    "\n",
    "# Load the simulation data\n",
    "simulation_data = pd.read_csv('../data/sample_simulation_data.csv')\n",
    "\n",
    "# Display the first few rows of the simulation data\n",
    "simulation_data.head()"
   ]
  },
  {
   "cell_type": "code",
   "execution_count": null,
   "metadata": {
    "collapsed": false
   },
   "outputs": [],
   "source": [
    "# Visualize the simulated price paths\n",
    "plt.figure(figsize=(12, 6))\n",
    "for i in range(10):  # Plot 10 sample paths\n",
    "    plt.plot(simulation_data.iloc[i, 1:], label=f'Path {i+1}')\n",
    "plt.title('Sample Simulated Price Paths')\n",
    "plt.xlabel('Days')\n",
    "plt.ylabel('Price')\n",
    "plt.legend()\n",
    "plt.show()"
   ]
  },
  {
   "cell_type": "code",
   "execution_count": null,
   "metadata": {
    "collapsed": false
   },
   "outputs": [],
   "source": [
    "# Load the pricing results\n",
    "pricing_results = pd.read_csv('../results/pricing_results.csv')\n",
    "\n",
    "# Display the first few rows of the pricing results\n",
    "pricing_results.head()"
   ]
  },
  {
   "cell_type": "code",
   "execution_count": null,
   "metadata": {
    "collapsed": false
   },
   "outputs": [],
   "source": [
    "# Visualize the option prices\n",
    "plt.figure(figsize=(12, 6))\n",
    "sns.histplot(pricing_results['option_price'], bins=30, kde=True)\n",
    "plt.title('Distribution of Option Prices')\n",
    "plt.xlabel('Option Price')\n",
    "plt.ylabel('Frequency')\n",
    "plt.show()"
   ]
  }
 ],
 "metadata": {
  "kernelspec": {
   "display_name": "Python 3",
   "language": "python",
   "name": "python3"
  },
  "language_info": {
   "codemirror_mode": {
    "name": "ipython",
    "version": 3
   },
   "file_extension": ".py",
   "mimetype": "text/x-python",
   "name": "python",
   "nbconvert_exporter": "python",
   "pygments_lexer": "ipython3",
   "version": "3.8.5"
  }
 },
 "nbformat": 4,
 "nbformat_minor": 4
}